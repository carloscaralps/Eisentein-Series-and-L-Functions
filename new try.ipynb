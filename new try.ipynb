{
 "cells": [
  {
   "cell_type": "code",
   "execution_count": 1,
   "id": "c96cd0ce",
   "metadata": {},
   "outputs": [],
   "source": [
    "var('t')\n",
    "K.<h> = NumberField(t^2-29)\n",
    "field_to_reals2 = K.real_embeddings()\n",
    "OK = K.ring_of_integers()\n",
    "disc = K.absolute_discriminant()"
   ]
  },
  {
   "cell_type": "code",
   "execution_count": 2,
   "id": "ad873b38",
   "metadata": {},
   "outputs": [],
   "source": [
    "R=5\n",
    "f=(3-h)/2\n",
    "eps=eps=(5+h)/2\n",
    "etha=eps^2"
   ]
  },
  {
   "cell_type": "code",
   "execution_count": 3,
   "id": "6b816443",
   "metadata": {},
   "outputs": [],
   "source": [
    "def reduction(w1,w2):\n",
    "    T, w = abs(w2/w1), w1\n",
    "    if(field_to_reals2[0](w2)*field_to_reals2[1](w2)>0):\n",
    "        T, w = abs(w1/w2), w2\n",
    "    if T < 0:\n",
    "        T = -T\n",
    "    if T[1]<0 or (floor(T)<T[0]<ceil(T) and T[1] < min(a-floor(a),ceil(a)-a)):\n",
    "        return 0\n",
    "    return [w,-floor(T-2*T[1]*h)+T]"
   ]
  },
  {
   "cell_type": "code",
   "execution_count": 4,
   "id": "5b021075",
   "metadata": {},
   "outputs": [],
   "source": [
    "def reduction_integers(h):\n",
    "    if disc%4 == 1:\n",
    "        return reduction(1,(1+h)/2)\n",
    "    if (disc//4)%4 == 2 or (disc//4)%4 == 3:\n",
    "        return reduction(1,h)"
   ]
  },
  {
   "cell_type": "code",
   "execution_count": 5,
   "id": "7c0ce2b0",
   "metadata": {},
   "outputs": [
    {
     "data": {
      "text/plain": [
       "1/2*h + 7/2"
      ]
     },
     "execution_count": 5,
     "metadata": {},
     "output_type": "execute_result"
    }
   ],
   "source": [
    "tau=reduction_integers(h)[1]\n",
    "tau"
   ]
  },
  {
   "cell_type": "code",
   "execution_count": 6,
   "id": "f7406fca",
   "metadata": {},
   "outputs": [
    {
     "data": {
      "text/plain": [
       "[7, 2, 2, 2, 2, 7, 2, 2, 2, 2, 7, 2, 2, 2, 2, 7, 2, 2, 2, 2]"
      ]
     },
     "execution_count": 6,
     "metadata": {},
     "output_type": "execute_result"
    }
   ],
   "source": [
    "bk_liste = continued_fraction_list(field_to_reals2[1](tau), type = 'hj', nterms=20); bk_liste"
   ]
  },
  {
   "cell_type": "code",
   "execution_count": 7,
   "id": "1c0ac15f",
   "metadata": {},
   "outputs": [
    {
     "name": "stdout",
     "output_type": "stream",
     "text": [
      "1\n",
      "-1/2*h + 7/2\n",
      "-h + 6\n",
      "-3/2*h + 17/2\n",
      "-2*h + 11\n",
      "-5/2*h + 27/2\n"
     ]
    }
   ],
   "source": [
    "A_LAMBDA_tau = []; graph = []; A_LAMBDA1 = []\n",
    "A0 = K(1)\n",
    "Ak = A0\n",
    "Ak_moins_1 = tau\n",
    "k = 0\n",
    "\n",
    "while Ak_moins_1 != etha^(-1):\n",
    "    A_LAMBDA_tau.append(Ak); print(Ak); \n",
    "    Ak_plus_1 = bk_liste[k]*Ak - Ak_moins_1\n",
    "    Ak_moins_1 = Ak; Ak = Ak_plus_1; k += 1\n",
    "\n",
    "for ai in A_LAMBDA_tau:\n",
    "    graph.append((field_to_reals2[1](ai),field_to_reals2[0](ai)))"
   ]
  },
  {
   "cell_type": "code",
   "execution_count": 8,
   "id": "0022791e",
   "metadata": {},
   "outputs": [
    {
     "data": {
      "image/png": "[encoded data removed]",
      "text/plain": [
       "Graphics object consisting of 1 graphics primitive"
      ]
     },
     "execution_count": 8,
     "metadata": {},
     "output_type": "execute_result"
    }
   ],
   "source": [
    "points(graph)"
   ]
  },
  {
   "cell_type": "markdown",
   "id": "b610dbe0-70f7-4421-aff7-48a12996e594",
   "metadata": {},
   "source": [
    "The following cell gets all the points such that are negative through the second embedding and are of height $R$."
   ]
  },
  {
   "cell_type": "code",
   "execution_count": 9,
   "id": "72096cdf",
   "metadata": {},
   "outputs": [],
   "source": [
    "S2=[]; n=0; \n",
    "S2_graph=[]\n",
    "while abs(field_to_reals2[0](etha^n))+abs(field_to_reals2[1](etha^n))<R or abs(field_to_reals2[0](etha^n*A_LAMBDA_tau[5]))+abs(field_to_reals2[1](etha^n*A_LAMBDA_tau[5]))<R:\n",
    "    for j in range(0,len(A_LAMBDA_tau)-1):\n",
    "        a=1; b=0\n",
    "        while abs(field_to_reals2[0](etha^n*a*(A_LAMBDA_tau[j])))+abs(field_to_reals2[1](etha^n*a*(A_LAMBDA_tau[j])))<R:\n",
    "            T=a*A_LAMBDA_tau[j]*etha^n+b*A_LAMBDA_tau[j+1]*etha^n\n",
    "            while abs(field_to_reals2[0](T))+abs(field_to_reals2[1](T))<R:\n",
    "                S2.append(-T)\n",
    "                S2_graph.append((field_to_reals2[1](-T),field_to_reals2[0](-T)))\n",
    "                b=b+1\n",
    "                T=a*A_LAMBDA_tau[j]*etha^n+b*A_LAMBDA_tau[j+1]*etha^n\n",
    "            a=a+1; b=0\n",
    "    n=n+1\n",
    "n=-1\n",
    "while abs(field_to_reals2[0](etha^n))+abs(field_to_reals2[1](etha^n))<R or abs(field_to_reals2[0](etha^n*A_LAMBDA_tau[5]))+abs(field_to_reals2[1](etha^n*A_LAMBDA_tau[5]))<R:\n",
    "    for j in range(0,len(A_LAMBDA_tau)-1):\n",
    "        a=1; b=0\n",
    "        while abs(field_to_reals2[0](etha^n*a*(A_LAMBDA_tau[j])))+abs(field_to_reals2[1](etha^n*a*(A_LAMBDA_tau[j])))<R:\n",
    "            T=a*A_LAMBDA_tau[j]*etha^n+b*A_LAMBDA_tau[j+1]*etha^n\n",
    "            while abs(field_to_reals2[0](T))+abs(field_to_reals2[1](T))<R:\n",
    "                S2.append(-T)\n",
    "                S2_graph.append((field_to_reals2[1](-T),field_to_reals2[0](-T)))\n",
    "                b=b+1\n",
    "                T=a*A_LAMBDA_tau[j]*etha^n+b*A_LAMBDA_tau[j+1]*etha^n\n",
    "            a=a+1; b=0\n",
    "    n=n-1\n",
    "n=0\n",
    "while abs(field_to_reals2[0](eps*etha^n))+abs(field_to_reals2[1](eps*etha^n))<R or abs(field_to_reals2[0](eps*etha^n*A_LAMBDA_tau[5]))+abs(field_to_reals2[1](eps*etha^n*A_LAMBDA_tau[5]))<R:\n",
    "    for j in range(0,len(A_LAMBDA_tau)-1):\n",
    "        a=1; b=0\n",
    "        while abs(field_to_reals2[0](eps*etha^n*a*(A_LAMBDA_tau[j])))+abs(field_to_reals2[1](eps*etha^n*a*(A_LAMBDA_tau[j])))<R:\n",
    "            T=a*eps*A_LAMBDA_tau[j]*etha^n+b*eps*A_LAMBDA_tau[j+1]*etha^n\n",
    "            while abs(field_to_reals2[0](T))+abs(field_to_reals2[1](T))<R:\n",
    "                S2.append(T)\n",
    "                S2_graph.append((field_to_reals2[1](T),field_to_reals2[0](T)))\n",
    "                b=b+1\n",
    "                T=a*eps*A_LAMBDA_tau[j]*etha^n+b*eps*A_LAMBDA_tau[j+1]*etha^n\n",
    "            a=a+1; b=0\n",
    "    n=n+1\n",
    "n=-1\n",
    "while abs(field_to_reals2[0](etha^n*eps))+abs(field_to_reals2[1](etha^n*eps))<R or abs(field_to_reals2[0](eps*etha^n*A_LAMBDA_tau[5]))+abs(field_to_reals2[1](eps*etha^n*A_LAMBDA_tau[5]))<R:\n",
    "    for j in range(0,len(A_LAMBDA_tau)-1):\n",
    "        a=1; b=0\n",
    "        while abs(field_to_reals2[0](eps*etha^n*a*(A_LAMBDA_tau[j])))+abs(field_to_reals2[1](eps*etha^n*a*(A_LAMBDA_tau[j])))<R:\n",
    "            T=a*eps*A_LAMBDA_tau[j]*etha^n+b*eps*A_LAMBDA_tau[j+1]*etha^n\n",
    "            while abs(field_to_reals2[0](T))+abs(field_to_reals2[1](T))<R:\n",
    "                S2.append(T)\n",
    "                S2_graph.append((field_to_reals2[1](T),field_to_reals2[0](T)))\n",
    "                b=b+1\n",
    "                T=a*eps*A_LAMBDA_tau[j]*etha^n+b*eps*A_LAMBDA_tau[j+1]*etha^n\n",
    "            a=a+1; b=0\n",
    "    n=n-1"
   ]
  },
  {
   "cell_type": "code",
   "execution_count": 10,
   "id": "d80cd863",
   "metadata": {},
   "outputs": [
    {
     "data": {
      "image/png": "[encoded data removed]",
      "text/plain": [
       "Graphics object consisting of 5 graphics primitives"
      ]
     },
     "execution_count": 10,
     "metadata": {},
     "output_type": "execute_result"
    }
   ],
   "source": [
    "points(S2_graph)+plot(R-x,x,0,R,color='black')+plot(-R-x,x,-R,0,color='black')+plot(R+x,x,-R,0,color='black')+plot(x-R,x,0,R,color='black')"
   ]
  },
  {
   "cell_type": "markdown",
   "id": "7627c71f-13cb-48e3-9b0f-bf8832b10238",
   "metadata": {},
   "source": [
    "This function takes an element in $\\mathcal{O}_K$ and finds its representation in the Shintani Domain taking the trivial signature (i.e. they are on the component that lies on the first quadrant)."
   ]
  },
  {
   "cell_type": "code",
   "execution_count": 11,
   "id": "a7c150a3",
   "metadata": {},
   "outputs": [],
   "source": [
    "def reduceshint(mu):\n",
    "    if norm(mu)>0:\n",
    "        if field_to_reals2[1](mu)<0:\n",
    "            mu=-mu\n",
    "    else:\n",
    "        if field_to_reals2[1](mu)>0:\n",
    "            mu=eps*mu          \n",
    "        else:\n",
    "            mu=-eps*mu\n",
    "    while 1>field_to_reals2[0](mu)/field_to_reals2[1](mu):\n",
    "        mu=mu/etha\n",
    "    while field_to_reals2[0](-5/2*h + 27/2)/field_to_reals2[1](-5/2*h + 27/2)<=field_to_reals2[0](mu)/field_to_reals2[1](mu):\n",
    "        mu=etha*mu\n",
    "    return mu"
   ]
  },
  {
   "cell_type": "markdown",
   "id": "6712cd6d-daec-4c73-9f6f-990fb9f30711",
   "metadata": {},
   "source": [
    "Definition of the $b$-function\n",
    "$$b_d(1/2):=\\sum_{[\\xi_1,\\xi_2]\\in R_d/\\mathcal{O}_K^{\\times}(f\\infty)} (-1)^{W(\\xi_2)}$$"
   ]
  },
  {
   "cell_type": "code",
   "execution_count": 12,
   "id": "60f2a69f",
   "metadata": {},
   "outputs": [],
   "source": [
    "def bfu(d):\n",
    "    suma=0\n",
    "    for A in divisors(d*OK):\n",
    "        D1=reduceshint(A.gens_reduced()[0])\n",
    "        d2=d/D1\n",
    "        if d2+1 in f*OK:\n",
    "            if field_to_reals2[0](d2)<0:\n",
    "                suma-=1\n",
    "            else:\n",
    "                suma+=1\n",
    "        d2=-d/D1\n",
    "        if d2+1 in f*OK:\n",
    "            if field_to_reals2[0](d2)<0:\n",
    "                suma-=1\n",
    "            else:\n",
    "                suma+=1\n",
    "        d2=d/(eps*D1)\n",
    "        if d2+1 in f*OK:\n",
    "            if field_to_reals2[0](d2)<0:\n",
    "                suma-=1\n",
    "            else:\n",
    "                suma+=1\n",
    "        d2=-d/(eps*D1)\n",
    "        if d2+1 in f*OK:\n",
    "            if field_to_reals2[0](d2)<0:\n",
    "                suma-=1\n",
    "            else:\n",
    "                suma+=1\n",
    "    return suma"
   ]
  },
  {
   "cell_type": "markdown",
   "id": "5553e6ab-f6e1-47d3-91cb-b9ca2bdfdd5a",
   "metadata": {},
   "source": [
    "Definition of the residuous function\n",
    "$$R(r):=\\sum_{d\\in\\mathcal{D}}-4\\pi i\\sqrt{d_K}|\\mathbf{N}(f)|r\\sum b_d(1/2)K_0(2\\pi|d^{(1)}|r)e^{-2\\pi|d^{(2)}|r}e^{-2\\pi irx_r \\mathbf{Tr}(d)}$$"
   ]
  },
  {
   "cell_type": "code",
   "execution_count": 13,
   "id": "711e3785",
   "metadata": {},
   "outputs": [],
   "source": [
    "def Rfu(r):\n",
    "    suma=0\n",
    "    for d in S2:\n",
    "        suma+=(bfu(d)*bessel_K(0,(2*pi*abs(field_to_reals2[1](d))*r).n(digits=200))*exp(-2*pi*abs(field_to_reals2[0](d))*r)*exp(-2*pi*I*r*sqrt(r^(-1)-1)*(field_to_reals2[0](d)+field_to_reals2[1](d)))).n(digits = 200)\n",
    "    return -4*r*pi*I*sqrt(disc)*abs(field_to_reals2[0](f)*field_to_reals2[1](f))*suma"
   ]
  },
  {
   "cell_type": "markdown",
   "id": "fe14282c-4bf7-4afb-a4c5-12b71c7e7cf3",
   "metadata": {},
   "source": [
    "Computation of the dul points"
   ]
  },
  {
   "cell_type": "code",
   "execution_count": 14,
   "id": "271fe0de",
   "metadata": {},
   "outputs": [],
   "source": [
    "coef=-1/(h^2*f)"
   ]
  },
  {
   "cell_type": "code",
   "execution_count": 15,
   "id": "22a1391a",
   "metadata": {},
   "outputs": [],
   "source": [
    "S3star=[]; n=0\n",
    "S3_graphstar=[]\n",
    "while abs(field_to_reals2[0](coef*etha^n))+abs(field_to_reals2[1](coef*etha^n))<R or abs(field_to_reals2[0](coef*etha^n*A_LAMBDA_tau[5]))+abs(field_to_reals2[1](coef*etha^n*A_LAMBDA_tau[5]))<R:\n",
    "    for j in range(0,len(A_LAMBDA_tau)-1):\n",
    "        a=1; b=0\n",
    "        while abs(field_to_reals2[0](coef*etha^n*a*(A_LAMBDA_tau[j])))+abs(field_to_reals2[1](coef*etha^n*a*(A_LAMBDA_tau[j])))<R:\n",
    "            T=coef*a*A_LAMBDA_tau[j]*etha^n+coef*b*A_LAMBDA_tau[j+1]*etha^n\n",
    "            while abs(field_to_reals2[0](T))+abs(field_to_reals2[1](T))<R:\n",
    "                S3star.append(T)\n",
    "                S3_graphstar.append((field_to_reals2[1](T),field_to_reals2[0](T)))\n",
    "                b=b+1\n",
    "                T=coef*a*A_LAMBDA_tau[j]*etha^n+coef*b*A_LAMBDA_tau[j+1]*etha^n\n",
    "            a=a+1; b=0\n",
    "    n=n+1\n",
    "n=-1\n",
    "while abs(field_to_reals2[0](coef*etha^n))+abs(field_to_reals2[1](coef*etha^n))<R or abs(field_to_reals2[0](coef*etha^n*A_LAMBDA_tau[5]))+abs(field_to_reals2[1](coef*etha^n*A_LAMBDA_tau[5]))<R:\n",
    "    for j in range(0,len(A_LAMBDA_tau)-1):\n",
    "        a=1; b=0\n",
    "        while abs(field_to_reals2[0](coef*etha^n*a*(A_LAMBDA_tau[j])))+abs(field_to_reals2[1](coef*etha^n*a*(A_LAMBDA_tau[j])))<R:\n",
    "            T=coef*a*A_LAMBDA_tau[j]*etha^n+coef*b*A_LAMBDA_tau[j+1]*etha^n\n",
    "            while abs(field_to_reals2[0](T))+abs(field_to_reals2[1](T))<R:\n",
    "                S3star.append(T)\n",
    "                S3_graphstar.append((field_to_reals2[1](T),field_to_reals2[0](T)))\n",
    "                b=b+1\n",
    "                T=coef*a*A_LAMBDA_tau[j]*etha^n+coef*b*A_LAMBDA_tau[j+1]*etha^n\n",
    "            a=a+1; b=0\n",
    "    n=n-1\n",
    "n=0\n",
    "while abs(field_to_reals2[0](coef*eps*etha^n))+abs(field_to_reals2[1](coef*eps*etha^n))<R or abs(field_to_reals2[0](coef*eps*etha^n*A_LAMBDA_tau[5]))+abs(field_to_reals2[1](coef*eps*etha^n*A_LAMBDA_tau[5]))<R:\n",
    "    for j in range(0,len(A_LAMBDA_tau)-1):\n",
    "        a=1; b=0\n",
    "        while abs(field_to_reals2[0](coef*eps*etha^n*a*(A_LAMBDA_tau[j])))+abs(field_to_reals2[1](coef*eps*etha^n*a*(A_LAMBDA_tau[j])))<R:\n",
    "            T=coef*a*eps*A_LAMBDA_tau[j]*etha^n+coef*b*eps*A_LAMBDA_tau[j+1]*etha^n\n",
    "            while abs(field_to_reals2[0](T))+abs(field_to_reals2[1](T))<R:\n",
    "                S3star.append(-T)\n",
    "                S3_graphstar.append((field_to_reals2[1](-T),field_to_reals2[0](-T)))\n",
    "                b=b+1\n",
    "                T=coef*a*eps*A_LAMBDA_tau[j]*etha^n+coef*b*eps*A_LAMBDA_tau[j+1]*etha^n\n",
    "            a=a+1; b=0\n",
    "    n=n+1\n",
    "n=-1\n",
    "while abs(field_to_reals2[0](coef*etha^n*eps))+abs(field_to_reals2[1](coef*etha^n*eps))<R or abs(field_to_reals2[0](coef*eps*etha^n*A_LAMBDA_tau[5]))+abs(field_to_reals2[1](coef*eps*etha^n*A_LAMBDA_tau[5]))<R:\n",
    "    for j in range(0,len(A_LAMBDA_tau)-1):\n",
    "        a=1; b=0\n",
    "        while abs(field_to_reals2[0](coef*eps*etha^n*a*(A_LAMBDA_tau[j])))+abs(field_to_reals2[1](coef*eps*etha^n*a*(A_LAMBDA_tau[j])))<R:\n",
    "            T=coef*a*eps*A_LAMBDA_tau[j]*etha^n+coef*b*eps*A_LAMBDA_tau[j+1]*etha^n\n",
    "            while abs(field_to_reals2[0](T))+abs(field_to_reals2[1](T))<R:\n",
    "                S3star.append(-T)\n",
    "                S3_graphstar.append((field_to_reals2[1](-T),field_to_reals2[0](-T)))\n",
    "                b=b+1\n",
    "                T=coef*a*eps*A_LAMBDA_tau[j]*etha^n+coef*b*eps*A_LAMBDA_tau[j+1]*etha^n\n",
    "            a=a+1; b=0\n",
    "    n=n-1"
   ]
  },
  {
   "cell_type": "code",
   "execution_count": 16,
   "id": "de70d13d",
   "metadata": {},
   "outputs": [
    {
     "data": {
      "image/png": "[encoded data removed]",
      "text/plain": [
       "Graphics object consisting of 5 graphics primitives"
      ]
     },
     "execution_count": 16,
     "metadata": {},
     "output_type": "execute_result"
    }
   ],
   "source": [
    "points(S3_graphstar,color='red')+plot(R-x,x,0,R,color='black')+plot(-R-x,x,-R,0,color='black')+plot(R+x,x,-R,0,color='black')+plot(x-R,x,0,R,color='black')"
   ]
  },
  {
   "cell_type": "markdown",
   "id": "529857e2-601e-40d7-840d-caee99c6b26a",
   "metadata": {},
   "source": [
    "The dual $b$-function\n",
    "$$b_d^{*}(1/2):=\\sum_{[(\\xi_1,\\xi_2)]\\in R_d^{*}/\\mathcal{O}_K^{\\times}(f\\infty)}(-1)^{W(\\xi_2)}e^{2\\pi i\\mathbf{Tr}(\\xi_1)}$$"
   ]
  },
  {
   "cell_type": "code",
   "execution_count": 17,
   "id": "14e6da5c",
   "metadata": {},
   "outputs": [],
   "source": [
    "def bstar(d):\n",
    "    suma=0\n",
    "    for A in divisors(f*h^2*d*OK):\n",
    "        d1=reduceshint((A.gens_reduced()[0]))/(f*h)\n",
    "        d2=d/d1\n",
    "        if d2 in (1/h)*OK:\n",
    "            if field_to_reals2[0](d2)>0:\n",
    "                suma+=exp(2*pi*I*(field_to_reals2[0](d1)+field_to_reals2[1](d1)))\n",
    "                suma-=exp(2*pi*I*(field_to_reals2[0](-d1)+field_to_reals2[1](-d1)))\n",
    "                suma-=exp(2*pi*I*(field_to_reals2[0](eps*d1)+field_to_reals2[1](eps*d1)))\n",
    "                suma+=exp(2*pi*I*(field_to_reals2[0](-eps*d1)+field_to_reals2[1](-eps*d1)))\n",
    "            if field_to_reals2[0](d2)<0:\n",
    "                suma-=exp(2*pi*I*(field_to_reals2[0](d1)+field_to_reals2[1](d1)))\n",
    "                suma+=exp(2*pi*I*(field_to_reals2[0](-d1)+field_to_reals2[1](-d1)))\n",
    "                suma+=exp(2*pi*I*(field_to_reals2[0](eps*d1)+field_to_reals2[1](eps*d1)))\n",
    "                suma-=exp(2*pi*I*(field_to_reals2[0](-eps*d1)+field_to_reals2[1](-eps*d1)))\n",
    "    return suma"
   ]
  },
  {
   "cell_type": "markdown",
   "id": "fa81002d-cb93-4014-8f14-499cf0ac715c",
   "metadata": {},
   "source": [
    "Definition of the dueal $R$-function\n",
    "$$R^{*}(r):=-\\frac{4\\pi i}{\\sqrt{d_K}}\\sum b_d^{*}(1/2)K_0(2\\pi|d^{(1)}|)e^{-2\\pi|d^{(2)}|}e^{2\\pi i x_r\\mathbf{Tr}(d)}$$"
   ]
  },
  {
   "cell_type": "code",
   "execution_count": 18,
   "id": "fe5fd953",
   "metadata": {},
   "outputs": [],
   "source": [
    "def Rfustar(r):\n",
    "    suma=0\n",
    "    for d in S3star:\n",
    "        suma+=(bstar(d)*bessel_K(0,(2*pi*abs(field_to_reals2[1](d))).n(digits=200))*exp(-2*pi*abs(field_to_reals2[0](d)))*exp(2*pi*I*sqrt(r^(-1)-1)*(field_to_reals2[0](d)+field_to_reals2[1](d)))).n(digits = 200)\n",
    "    return (-4*pi*I/sqrt(disc))*suma"
   ]
  },
  {
   "cell_type": "markdown",
   "id": "8e9de498-0d71-4307-aa49-22d3bb407670",
   "metadata": {},
   "source": [
    "Definition of the $T$-function\n",
    "$$T(r):=R(r)-\\sqrt{r}(\\sqrt{r^{-1}-1}-i)R^{*}(r)$$"
   ]
  },
  {
   "cell_type": "code",
   "execution_count": 19,
   "id": "44ddaff6",
   "metadata": {},
   "outputs": [],
   "source": [
    "def Tfun(r):\n",
    "    return Rfu(r)-sqrt(r)*(sqrt(r^(-1)-1)-I)*Rfustar(r)"
   ]
  },
  {
   "cell_type": "markdown",
   "id": "f2472a85-2ac6-41a7-9424-5a6cd5cdda50",
   "metadata": {},
   "source": [
    "With all the functions defined before the zeta function is described as"
   ]
  },
  {
   "cell_type": "code",
   "execution_count": 20,
   "id": "aa9b18eb",
   "metadata": {},
   "outputs": [],
   "source": [
    "def zetafu(r):\n",
    "    M=matrix([[-r,sqrt(r)*(sqrt(r^(-1)-1)-I)],[-r^2,r*(sqrt(r^(-2)-1)-I)]])\n",
    "    W=matrix([[Tfun(r)],[Tfun(r^2)]])\n",
    "    return (M^(-1)*W)[0][0]/(abs(norm(f))*abs(disc))"
   ]
  },
  {
   "cell_type": "code",
   "execution_count": null,
   "id": "46931c34",
   "metadata": {},
   "outputs": [],
   "source": [
    "zetafu(1/2).n(digits=200)"
   ]
  }
 ],
 "metadata": {
  "kernelspec": {
   "display_name": "SageMath 10.0",
   "language": "sage",
   "name": "sagemath"
  },
  "language_info": {
   "codemirror_mode": {
    "name": "ipython",
    "version": 3
   },
   "file_extension": ".py",
   "mimetype": "text/x-python",
   "name": "python",
   "nbconvert_exporter": "python",
   "pygments_lexer": "ipython3",
   "version": "3.11.3"
  }
 },
 "nbformat": 4,
 "nbformat_minor": 5
}
