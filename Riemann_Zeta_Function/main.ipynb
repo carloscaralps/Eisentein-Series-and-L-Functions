{
 "cells": [
  {
   "cell_type": "code",
   "execution_count": 1,
   "metadata": {},
   "outputs": [],
   "source": [
    "def sig(n,mu):\n",
    "    return sum([d^mu for d in divisors(n)])"
   ]
  },
  {
   "cell_type": "code",
   "execution_count": 2,
   "metadata": {},
   "outputs": [],
   "source": [
    "def extrange(v,m):\n",
    "    L = []\n",
    "    L[0]=(4*v^2-1)/4\n",
    "    for i in range(1,m+1,1):\n",
    "        L[i] = -(((i+1/2)^2-v^2))*L[i-1]/(i+1)\n",
    "    return L"
   ]
  },
  {
   "cell_type": "code",
   "execution_count": 3,
   "metadata": {},
   "outputs": [],
   "source": [
    "def a(n,y,s,err):\n",
    "    return (abs(n)^(s-1/2)*sig(abs(n),1-2*s)*y^(1/2)*bessel_K(s-1/2,2*pi*abs(n)*y)).n(digits = err)"
   ]
  },
  {
   "cell_type": "code",
   "execution_count": 4,
   "metadata": {},
   "outputs": [],
   "source": [
    "def our_norm(c):\n",
    "    if c in RR:\n",
    "        return abs(c)\n",
    "    return sqrt(real(c)^2+imag(c)^2)"
   ]
  },
  {
   "cell_type": "code",
   "execution_count": 5,
   "metadata": {},
   "outputs": [],
   "source": [
    "def F(b,s,err):\n",
    "    pos=1; neg=I; n=1; suma=0\n",
    "    while(our_norm((pos+neg))>=10^(-err)):\n",
    "        pos=-a(n,1,s,err)*exp(2*pi*n*sqrt(b^(-1)-1)*I).n(digits=err)+a(n,b,s,err)*exp(-2*pi*n*b*sqrt(b^(-1)-1)*I).n(digits=err)\n",
    "        neg=-a(-n,1,s,err)*exp(-2*pi*n*sqrt(b^(-1)-1)*I).n(digits=err)+a(-n,b,s,err)*exp(2*pi*n*b*sqrt(b^(-1)-1)*I).n(digits=err)\n",
    "        suma+=pos+neg\n",
    "        n+=1\n",
    "    return suma"
   ]
  },
  {
   "cell_type": "code",
   "execution_count": 6,
   "metadata": {},
   "outputs": [],
   "source": [
    "def our_zeta(s,b,err):\n",
    "    s=s.n(digits=err).nearby_rational(max_error=10^(-err)); s=s/2\n",
    "    b=b.n(digits=err).nearby_rational(max_error=10^(-err))\n",
    "    return 2*((1+b^(1-s))*F(b,s,err)-F(b^2,s,err))/((b^(2*s)-b^s+b^(1-s)-b)*(pi^(-s)*gamma(s)))"
   ]
  },
  {
   "cell_type": "code",
   "execution_count": 7,
   "metadata": {},
   "outputs": [
    {
     "data": {
      "text/plain": [
       "3.1027479194968683835343397435308468207706038445500057818129276901052653994407624026543494121468354915337234207046826089077998825541553269881408190124128025942318857319185375655899708844540178285954233e-200"
      ]
     },
     "execution_count": 7,
     "metadata": {},
     "output_type": "execute_result"
    }
   ],
   "source": [
    "our_zeta(2.5,0.5,200).n(digits=200)-zeta(5/2).n(digits = 200)"
   ]
  },
  {
   "cell_type": "code",
   "execution_count": 8,
   "metadata": {},
   "outputs": [
    {
     "data": {
      "text/plain": [
       "1.20205690315959428539973816151144999076498629234049888179227155534183820578631309018645587360933525814619915779526071941849199599867328321377639683720790016145394178294936006671919157552224249424396156390966410329115909578096551465127991840510571525598801543710978110203982753256678760352233698494167"
      ]
     },
     "execution_count": 8,
     "metadata": {},
     "output_type": "execute_result"
    }
   ],
   "source": [
    "our_zeta(3,1/2,300).n(digits=300)"
   ]
  }
 ],
 "metadata": {
  "kernelspec": {
   "display_name": "SageMath 9.8",
   "language": "sage",
   "name": "sagemath"
  },
  "language_info": {
   "codemirror_mode": {
    "name": "ipython",
    "version": 3
   },
   "file_extension": ".py",
   "mimetype": "text/x-python",
   "name": "python",
   "nbconvert_exporter": "python",
   "pygments_lexer": "ipython3",
   "version": "3.11.3"
  }
 },
 "nbformat": 4,
 "nbformat_minor": 4
}
